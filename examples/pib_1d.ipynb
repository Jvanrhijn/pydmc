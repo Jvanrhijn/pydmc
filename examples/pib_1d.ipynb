{
 "metadata": {
  "language_info": {
   "codemirror_mode": {
    "name": "ipython",
    "version": 3
   },
   "file_extension": ".py",
   "mimetype": "text/x-python",
   "name": "python",
   "nbconvert_exporter": "python",
   "pygments_lexer": "ipython3",
   "version": "3.8.5-final"
  },
  "orig_nbformat": 2,
  "kernelspec": {
   "name": "python38564bitc13c5f5f1cd54ac3bbec802300a01584",
   "display_name": "Python 3.8.5 64-bit"
  }
 },
 "nbformat": 4,
 "nbformat_minor": 2,
 "cells": [
  {
   "cell_type": "markdown",
   "metadata": {},
   "source": [
    "# DMC Example: Particle in 1D Box\n",
    "\n",
    "We consider as a test case a particle in a 1D box. This is given by the Hamiltonian\n",
    "\n",
    "$$\n",
    "    H = -\\frac{1}{2}\\partial_x^2,\n",
    "$$\n",
    "\n",
    "for $x \\in [0, 1]$, with homogeneous Dirichet boundary conditions. The exact ground state solution is\n",
    "\n",
    "$$\n",
    "    \\psi_0(x) = \\sin(\\pi x),\n",
    "$$\n",
    "\n",
    "with energy\n",
    "\n",
    "$$\n",
    "    E_0 = \\frac{\\langle \\psi_0 | H | \\psi_0 \\rangle}{\\langle \\psi_0 | \\psi_0 \\rangle} = \\frac{\\pi^2}{2} \\approx 4.9348.\n",
    "$$\n",
    "\n",
    "As a trial function, we use\n",
    "\n",
    "$$\n",
    "    \\psi_T(x) = x(1 - x),\n",
    "$$\n",
    "\n",
    "which has a variational energy\n",
    "\n",
    "$$\n",
    "    E_V = \\frac{\\langle \\psi_T | H | \\psi_T \\rangle}{\\langle \\psi_T | \\psi_T \\rangle} = 5 > E_0.\n",
    "$$"
   ]
  },
  {
   "cell_type": "code",
   "execution_count": 6,
   "metadata": {},
   "outputs": [],
   "source": [
    "import sys\n",
    "sys.path.insert(0, \"../\")\n",
    "from pydmc import *\n",
    "%matplotlib inline"
   ]
  },
  {
   "cell_type": "code",
   "execution_count": 7,
   "metadata": {},
   "outputs": [],
   "source": [
    "nconf = 100\n",
    "time_step = 1e-3\n",
    "reference_energy = 5\n",
    "blocks = 400\n",
    "steps_per_block = 10\n",
    "hamiltonian = lambda psi, x: -0.5 * psi.laplacian(x)"
   ]
  },
  {
   "cell_type": "markdown",
   "metadata": {},
   "source": [
    "Next, we create the guiding wave function:"
   ]
  },
  {
   "cell_type": "code",
   "execution_count": 8,
   "metadata": {},
   "outputs": [],
   "source": [
    "class GuidingWaveFunction(WaveFunction):\n",
    "\n",
    "    def __call__(self, x):\n",
    "        y = x[0]\n",
    "        return y*(1 - y)\n",
    "\n",
    "    def gradient(self, x):\n",
    "        return gradient_fd(self, x)\n",
    "    \n",
    "    def laplacian(self, x):\n",
    "        return laplacian_fd(self, x)"
   ]
  },
  {
   "cell_type": "markdown",
   "metadata": {},
   "source": [
    "Next, we set up the branching algorithm and accept-reject algorithm, and construct the wave function:"
   ]
  },
  {
   "cell_type": "code",
   "execution_count": 10,
   "metadata": {},
   "outputs": [],
   "source": [
    "brancher = SRBrancher()\n",
    "#brancher = SimpleBrancher()\n",
    "ar = DiffuseAcceptReject(fixed_node=True)\n",
    "guiding_wf = GuidingWaveFunction()"
   ]
  },
  {
   "cell_type": "markdown",
   "metadata": {},
   "source": [
    "And finally, initialize the DMC runner and perform diffusion Monte Carlo:"
   ]
  },
  {
   "cell_type": "code",
   "execution_count": 9,
   "metadata": {},
   "outputs": [
    {
     "output_type": "error",
     "ename": "NameError",
     "evalue": "name 'brancher' is not defined",
     "traceback": [
      "\u001b[0;31m---------------------------------------------------------------------------\u001b[0m",
      "\u001b[0;31mNameError\u001b[0m                                 Traceback (most recent call last)",
      "\u001b[0;32m<ipython-input-9-732ecb233c0c>\u001b[0m in \u001b[0;36m<module>\u001b[0;34m\u001b[0m\n\u001b[1;32m      3\u001b[0m \u001b[0mwalkers\u001b[0m \u001b[0;34m=\u001b[0m \u001b[0;34m[\u001b[0m\u001b[0mWalker\u001b[0m\u001b[0;34m(\u001b[0m\u001b[0mconf\u001b[0m\u001b[0;34m,\u001b[0m \u001b[0;36m1.0\u001b[0m\u001b[0;34m)\u001b[0m \u001b[0;32mfor\u001b[0m \u001b[0mconf\u001b[0m \u001b[0;32min\u001b[0m \u001b[0mconfs\u001b[0m\u001b[0;34m]\u001b[0m\u001b[0;34m\u001b[0m\u001b[0;34m\u001b[0m\u001b[0m\n\u001b[1;32m      4\u001b[0m \u001b[0;34m\u001b[0m\u001b[0m\n\u001b[0;32m----> 5\u001b[0;31m \u001b[0mdmc\u001b[0m \u001b[0;34m=\u001b[0m \u001b[0mDMC\u001b[0m\u001b[0;34m(\u001b[0m\u001b[0mhamiltonian\u001b[0m\u001b[0;34m,\u001b[0m \u001b[0mwalkers\u001b[0m\u001b[0;34m,\u001b[0m \u001b[0mbrancher\u001b[0m\u001b[0;34m,\u001b[0m \u001b[0mar\u001b[0m\u001b[0;34m,\u001b[0m \u001b[0mguiding_wf\u001b[0m\u001b[0;34m,\u001b[0m \u001b[0mreference_energy\u001b[0m\u001b[0;34m)\u001b[0m\u001b[0;34m\u001b[0m\u001b[0;34m\u001b[0m\u001b[0m\n\u001b[0m\u001b[1;32m      6\u001b[0m \u001b[0mes\u001b[0m \u001b[0;34m=\u001b[0m \u001b[0mdmc\u001b[0m\u001b[0;34m.\u001b[0m\u001b[0mrun_dmc\u001b[0m\u001b[0;34m(\u001b[0m\u001b[0mtime_step\u001b[0m\u001b[0;34m,\u001b[0m \u001b[0mblocks\u001b[0m\u001b[0;34m,\u001b[0m \u001b[0msteps_per_block\u001b[0m\u001b[0;34m,\u001b[0m \u001b[0mneq\u001b[0m\u001b[0;34m=\u001b[0m\u001b[0;36m10\u001b[0m\u001b[0;34m)\u001b[0m\u001b[0;34m\u001b[0m\u001b[0;34m\u001b[0m\u001b[0m\n",
      "\u001b[0;31mNameError\u001b[0m: name 'brancher' is not defined"
     ]
    }
   ],
   "source": [
    "np.random.seed(0)\n",
    "confs = [np.random.rand(1) for _ in range(nconf)]\n",
    "walkers = [Walker(conf, 1.0) for conf in confs]\n",
    "\n",
    "dmc = DMC(hamiltonian, walkers, brancher, ar, guiding_wf, reference_energy)\n",
    "es = dmc.run_dmc(time_step, blocks, steps_per_block, neq=10)"
   ]
  },
  {
   "cell_type": "code",
   "execution_count": null,
   "metadata": {},
   "outputs": [],
   "source": [
    "energy = dmc.energy_estimate[-1]\n",
    "# blocking error estimate\n",
    "err = np.sqrt(np.mean(es**2) - energy**2) / np.sqrt(len(es))\n",
    "\n",
    "print(f\"Energy: {energy:.5f} +/- {err:.5f}\")\n",
    "print(f\"Exact:  {np.pi**2/2:.5f}\")"
   ]
  },
  {
   "cell_type": "code",
   "execution_count": null,
   "metadata": {},
   "outputs": [],
   "source": [
    "plt.figure()\n",
    "ns = np.arange(0, len(dmc.energy_estimate))\n",
    "plt.plot(ns, dmc.energy_estimate)\n",
    "plt.fill_between(ns, dmc.energy_estimate - dmc.energy_error, dmc.energy_estimate + dmc.energy_error, alpha=0.2)\n",
    "\n",
    "exact = np.pi**2/2                    \n",
    "plt.plot([0, len(es)-1], [exact, exact])\n",
    "plt.grid()\n",
    "plt.show()"
   ]
  },
  {
   "cell_type": "code",
   "execution_count": null,
   "metadata": {},
   "outputs": [],
   "source": []
  }
 ]
}