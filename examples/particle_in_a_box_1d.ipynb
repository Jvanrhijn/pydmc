{
 "metadata": {
  "language_info": {
   "codemirror_mode": {
    "name": "ipython",
    "version": 3
   },
   "file_extension": ".py",
   "mimetype": "text/x-python",
   "name": "python",
   "nbconvert_exporter": "python",
   "pygments_lexer": "ipython3",
   "version": "3.8.5-final"
  },
  "orig_nbformat": 2,
  "kernelspec": {
   "name": "python38564bitc13c5f5f1cd54ac3bbec802300a01584",
   "display_name": "Python 3.8.5 64-bit"
  }
 },
 "nbformat": 4,
 "nbformat_minor": 2,
 "cells": [
  {
   "cell_type": "markdown",
   "metadata": {},
   "source": [
    "# DMC Example: Particle in 1D Box\n",
    "\n",
    "We consider as a test case a particle in a 1D box. This is given by the Hamiltonian\n",
    "\n",
    "$$\n",
    "    H = -\\frac{1}{2}\\partial_x^2,\n",
    "$$\n",
    "\n",
    "for $x \\in [0, 1]$, with homogeneous Dirichet boundary conditions. The exact ground state solution is\n",
    "\n",
    "$$\n",
    "    \\psi_0(x) = \\sin(\\pi x),\n",
    "$$\n",
    "\n",
    "with energy\n",
    "\n",
    "$$\n",
    "    E_0 = \\frac{\\langle \\psi_0 | H | \\psi_0 \\rangle}{\\langle \\psi_0 | \\psi_0 \\rangle} = \\frac{\\pi^2}{2} \\approx 4.9348.\n",
    "$$\n",
    "\n",
    "As a trial function, we use\n",
    "\n",
    "$$\n",
    "    \\psi_T(x) = x(1 - x),\n",
    "$$\n",
    "\n",
    "which has a variational energy\n",
    "\n",
    "$$\n",
    "    E_V = \\frac{\\langle \\psi_T | H | \\psi_T \\rangle}{\\langle \\psi_T | \\psi_T \\rangle} = 5 > E_0.\n",
    "$$"
   ]
  },
  {
   "cell_type": "markdown",
   "metadata": {},
   "source": [
    "We start by import the needed library code:"
   ]
  },
  {
   "cell_type": "code",
   "execution_count": 3,
   "metadata": {},
   "outputs": [
    {
     "output_type": "error",
     "ename": "ModuleNotFoundError",
     "evalue": "No module named 'pydmc'",
     "traceback": [
      "\u001b[0;31m---------------------------------------------------------------------------\u001b[0m",
      "\u001b[0;31mModuleNotFoundError\u001b[0m                       Traceback (most recent call last)",
      "\u001b[0;32m<ipython-input-3-b5f3e6bd6cec>\u001b[0m in \u001b[0;36m<module>\u001b[0;34m\u001b[0m\n\u001b[0;32m----> 1\u001b[0;31m \u001b[0;32mimport\u001b[0m \u001b[0mpydmc\u001b[0m\u001b[0;34m.\u001b[0m\u001b[0maccept_reject\u001b[0m\u001b[0;34m\u001b[0m\u001b[0;34m\u001b[0m\u001b[0m\n\u001b[0m",
      "\u001b[0;31mModuleNotFoundError\u001b[0m: No module named 'pydmc'"
     ]
    }
   ],
   "source": [
    "import pydmc.accept_reject"
   ]
  },
  {
   "cell_type": "code",
   "execution_count": null,
   "metadata": {},
   "outputs": [],
   "source": []
  }
 ]
}